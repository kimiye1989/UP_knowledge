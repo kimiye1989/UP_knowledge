{
 "cells": [
  {
   "cell_type": "code",
   "execution_count": 1,
   "metadata": {},
   "outputs": [],
   "source": [
    "import json\n",
    "from functions import read_json\n",
    "\n",
    "from methods import Single_keyword_Sort_Filter_By_Year, Single_keyword_Sort_Filter_All_Year, Single_keyword_All_Year\n",
    "\n",
    "from methods import Add_to_tabu_json, Add_to_replace_json"
   ]
  },
  {
   "cell_type": "code",
   "execution_count": 2,
   "metadata": {},
   "outputs": [],
   "source": [
    "file_dir = './Data_samples/structured_data/words_count.json'\n",
    "ref_words = './Data_samples/ref_word.json'\n",
    "display_threshold_per_year = 20  # number of top keywords to display per year\n",
    "display_threshold_all_years = 50 # number of top keywords to display for the whole year specturm\n",
    "\n",
    "#dic = Single_keyword_Sort_Filter_By_Year(file_dir, display_threshold_per_year)\n",
    "#dic3 = Single_keyword_Sort_Filter_All_Year(file_dir, display_threshold_all_years)"
   ]
  },
  {
   "cell_type": "code",
   "execution_count": 3,
   "metadata": {},
   "outputs": [
    {
     "name": "stdout",
     "output_type": "stream",
     "text": [
      "Succeed! The new word 'pdf pdf' has been add to excluding list\n"
     ]
    }
   ],
   "source": [
    "Add_to_tabu_json('pdf pdf', ref_words)"
   ]
  },
  {
   "cell_type": "code",
   "execution_count": 11,
   "metadata": {},
   "outputs": [
    {
     "data": {
      "text/plain": [
       "[1, 2]"
      ]
     },
     "execution_count": 11,
     "metadata": {},
     "output_type": "execute_result"
    }
   ],
   "source": [
    "A=[1,2,3,4,5]\n",
    "A[:2]"
   ]
  },
  {
   "cell_type": "code",
   "execution_count": null,
   "metadata": {},
   "outputs": [],
   "source": []
  },
  {
   "cell_type": "code",
   "execution_count": null,
   "metadata": {},
   "outputs": [],
   "source": []
  },
  {
   "cell_type": "code",
   "execution_count": null,
   "metadata": {},
   "outputs": [],
   "source": []
  }
 ],
 "metadata": {
  "kernelspec": {
   "display_name": "Python 3.7.6 ('base')",
   "language": "python",
   "name": "python3"
  },
  "language_info": {
   "codemirror_mode": {
    "name": "ipython",
    "version": 3
   },
   "file_extension": ".py",
   "mimetype": "text/x-python",
   "name": "python",
   "nbconvert_exporter": "python",
   "pygments_lexer": "ipython3",
   "version": "3.7.6"
  },
  "orig_nbformat": 4,
  "vscode": {
   "interpreter": {
    "hash": "6f743cbcc5393e223852ba984670947fc787b3e2645e92c970be845a8a60a00e"
   }
  }
 },
 "nbformat": 4,
 "nbformat_minor": 2
}
